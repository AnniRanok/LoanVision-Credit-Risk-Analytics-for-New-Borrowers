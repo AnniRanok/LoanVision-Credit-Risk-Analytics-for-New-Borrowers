{
 "cells": [
  {
   "cell_type": "code",
   "execution_count": 185,
   "id": "3bdb4a1b",
   "metadata": {},
   "outputs": [
    {
     "name": "stdout",
     "output_type": "stream",
     "text": [
      "Overwriting api.py\n"
     ]
    }
   ],
   "source": [
    "%%writefile api.py\n",
    "from fastapi import FastAPI, HTTPException\n",
    "from pydantic import BaseModel, validator, root_validator\n",
    "from typing import Optional\n",
    "import pickle\n",
    "import pandas as pd\n",
    "import json\n",
    "from sklearn.linear_model import LogisticRegression\n",
    "import ssl\n",
    "import dill\n",
    "import uvicorn\n",
    "from fastapi.responses import HTMLResponse\n",
    "import numpy as np\n",
    "from sklearn.impute import SimpleImputer\n",
    "from sklearn.preprocessing import StandardScaler\n",
    "from sklearn.neighbors import NearestNeighbors\n",
    "\n"
   ]
  },
  {
   "cell_type": "code",
   "execution_count": 186,
   "id": "632f6ca0",
   "metadata": {},
   "outputs": [
    {
     "name": "stdout",
     "output_type": "stream",
     "text": [
      "Appending to api.py\n"
     ]
    }
   ],
   "source": [
    "%%writefile -a api.py\n",
    "with open('/Users/innakonar/Desktop/Project_7/best_model_filename.pkl', 'rb') as model_file:\n",
    "    model = pickle.load(model_file)\n",
    "# Deserialize SHAP explainer    \n",
    "with open('/Users/innakonar/Desktop/Project_7/explainer.pkl', 'rb') as file:\n",
    "    explainer = pickle.load(file)"
   ]
  },
  {
   "cell_type": "code",
   "execution_count": 187,
   "id": "fabc9738",
   "metadata": {},
   "outputs": [
    {
     "name": "stdout",
     "output_type": "stream",
     "text": [
      "Appending to api.py\n"
     ]
    }
   ],
   "source": [
    "%%writefile -a api.py\n",
    "app = FastAPI()\n",
    "\n",
    "N_CUSTOMERS = 1000\n",
    "N_NEIGHBORS = 15\n",
    "\n",
    "MAIN_COLUMNS = ['CODE_GENDER', 'FLAG_OWN_CAR', 'FLAG_OWN_REALTY', 'CNT_CHILDREN', \n",
    "                'NAME_FAMILY_STATUS', 'NAME_INCOME_TYPE',\n",
    "                'AMT_INCOME_TOTAL','DAYS_BIRTH', 'DAYS_EMPLOYED', 'OCCUPATION_TYPE']\n",
    "CUSTOM_THRESHOLD = 0.7\n",
    "\n",
    "# Get test dataframe\n",
    "test_df = pd.read_csv(\"/Users/innakonar/Desktop/Project_7/test_feature_engineering.csv\")\n",
    "test_columns = test_df.columns"
   ]
  },
  {
   "cell_type": "code",
   "execution_count": 188,
   "id": "5cc0486b",
   "metadata": {},
   "outputs": [
    {
     "name": "stdout",
     "output_type": "stream",
     "text": [
      "Appending to api.py\n"
     ]
    }
   ],
   "source": [
    "%%writefile -a api.py\n",
    "\n",
    "# Before calling prepare_data:\n",
    "def preprocess_data(df, template_df=test_df):\n",
    "    # One-hot encoding with all possible categories from template_df\n",
    "    full_encoded = pd.get_dummies(template_df)\n",
    "    df_encoded = pd.get_dummies(df).reindex(columns=full_encoded.columns, fill_value=0)\n",
    "\n",
    "    # Imputation\n",
    "    imputer = SimpleImputer(strategy='median')\n",
    "    df_imputed = imputer.fit_transform(df_encoded)\n",
    "    df_imputed = pd.DataFrame(df_imputed, columns=df_encoded.columns)\n",
    "    \n",
    "    # Scaling\n",
    "    scaler = StandardScaler()\n",
    "    df_scaled = scaler.fit_transform(df_imputed)\n",
    "    df_scaled = pd.DataFrame(df_scaled, columns=df_encoded.columns)\n",
    "    \n",
    "    return df_scaled\n",
    "\n",
    "prep_df = test_df.iloc[0: N_CUSTOMERS].copy()\n",
    "data_encoded = preprocess_data(prep_df)\n",
    "\n",
    "def prepare_data(data, data_encoded, n_neigbhors, n_customers):\n",
    "    \"\"\"Prepare the data, find the nearest neighbors and compute the shap values.\"\"\"\n",
    "    \n",
    "    # Find nearest neighbors\n",
    "    neighbors = NearestNeighbors(n_neighbors=n_neigbhors, algorithm='ball_tree').fit(data_encoded)\n",
    "    _, neighbors_indices = neighbors.kneighbors(data_encoded)\n",
    "    \n",
    "    # Compute shap values\n",
    "    shap_values = explainer(data_encoded)\n",
    "    \n",
    "    return prep_df, neighbors_indices, shap_values\n",
    "\n",
    "prep_df, neighbors_indices, shap_values = prepare_data(test_df, data_encoded, N_NEIGHBORS, N_CUSTOMERS)\n",
    "\n",
    "\n",
    "@app.get('/')\n",
    "def main():\n",
    "    \"\"\" API main page \"\"\"\n",
    "    return \"Hello There! This is the front page of the scoring API.\"\n",
    "\n",
    "\n",
    "@app.get(\"/ids\")\n",
    "def ids():\n",
    "    \"\"\" Return the customers ids \"\"\"\n",
    "    return {'ids': test_df.head(N_CUSTOMERS).index.to_list()}\n",
    "\n",
    "\n",
    "@app.get(\"/columns/id={cust_id}\")\n",
    "def columns(cust_id: int):\n",
    "    \"\"\" Return the customer main columns values \"\"\"\n",
    "    if cust_id not in range(0, N_CUSTOMERS):\n",
    "        raise HTTPException(status_code=404, detail=\"Customer id not found\")\n",
    "    cust_main_df = prep_df.iloc[cust_id][MAIN_COLUMNS]\n",
    "    return cust_main_df.to_json()\n",
    "\n",
    "\n",
    "@app.get(\"/columns/mean\")\n",
    "def colmuns_mean():\n",
    "    \"\"\"Return the entire dataset main columns mode values\"\"\"\n",
    "    return prep_df[MAIN_COLUMNS].mode().iloc[0].to_dict()\n",
    "\n",
    "\n",
    "@app.get(\"/columns/neighbors/id={cust_id}\")\n",
    "def colmuns_neighbors(cust_id: int):\n",
    "    \"\"\"Return the 15 nearest neighbors main columns mode values\"\"\"\n",
    "    if cust_id not in range(0, N_CUSTOMERS):\n",
    "        raise HTTPException(status_code=404, detail=\"Customer id not found\")\n",
    "    \n",
    "    neighbors_data = prep_df.iloc[neighbors_indices[cust_id]]\n",
    "    \n",
    "    # Calculate mode for all columns\n",
    "    modes = neighbors_data.mode().iloc[0].to_dict()\n",
    "    \n",
    "    return modes\n",
    "\n",
    "\n",
    "@app.get(\"/predict/id={cust_id}\")\n",
    "def predict(cust_id: int):\n",
    "    \"\"\" Return the customer predictions of repay failure (class 1) \"\"\"\n",
    "    if cust_id not in range(0, N_CUSTOMERS):\n",
    "        raise HTTPException(status_code=404, detail=\"Customer id not found\")\n",
    "    row = pd.DataFrame(prep_df.iloc[cust_id]).T  \n",
    "    processed_row = preprocess_data(row)\n",
    "    proba = model.predict_proba(processed_row)[0][1]  # prediction of class 1\n",
    "    return {'proba': proba.tolist()}\n",
    "\n",
    "\n",
    "\n",
    "@app.get(\"/shap\")\n",
    "def explain_all():\n",
    "    \"\"\" Return all shap values \"\"\"\n",
    "    return {'values': shap_values.values.tolist(),\n",
    "            'base_values': shap_values.base_values.tolist(),\n",
    "            'features': explainer.feature_names}\n",
    "\n",
    "\n",
    "@app.get(\"/shap/id={cust_id}\")\n",
    "def explain(cust_id: int):\n",
    "    \"\"\" Return the customer shap values \"\"\"\n",
    "    if cust_id not in range(0, N_CUSTOMERS):\n",
    "        raise HTTPException(status_code=404, detail=\"Customer id not found\")\n",
    "    return {'values': shap_values[cust_id].values.tolist(),\n",
    "            'base_values': float(shap_values[cust_id].base_values),\n",
    "            'features': explainer.feature_names}\n",
    "\n",
    "@app.get(\"/importances\")\n",
    "def importances():\n",
    "    \"\"\" Return the top 15 feature importances based on SHAP values \"\"\"\n",
    "    shap_sum = np.abs(shap_values).mean(axis=0)\n",
    "    imp_df = pd.DataFrame(data=shap_sum, index=test_columns, columns=['shap_importance'])\n",
    "    imp_df = imp_df.sort_values(by='shap_importance', ascending=False).head(15)\n",
    "    return imp_df.to_json()\n",
    "\n",
    "\n",
    "if __name__ == \"__main__\":\n",
    "    uvicorn.run(\"scoring_api:app\", reload=True, host=\"0.0.0.0\", port=8000)\n"
   ]
  },
  {
   "cell_type": "code",
   "execution_count": null,
   "id": "111525d9",
   "metadata": {},
   "outputs": [],
   "source": [
    "!uvicorn api:app --reload\n"
   ]
  },
  {
   "cell_type": "code",
   "execution_count": null,
   "id": "f6d85432",
   "metadata": {},
   "outputs": [],
   "source": []
  },
  {
   "cell_type": "code",
   "execution_count": null,
   "id": "ddec4dae",
   "metadata": {},
   "outputs": [],
   "source": []
  }
 ],
 "metadata": {
  "kernelspec": {
   "display_name": "Python 3 (ipykernel)",
   "language": "python",
   "name": "python3"
  },
  "language_info": {
   "codemirror_mode": {
    "name": "ipython",
    "version": 3
   },
   "file_extension": ".py",
   "mimetype": "text/x-python",
   "name": "python",
   "nbconvert_exporter": "python",
   "pygments_lexer": "ipython3",
   "version": "3.9.13"
  }
 },
 "nbformat": 4,
 "nbformat_minor": 5
}
