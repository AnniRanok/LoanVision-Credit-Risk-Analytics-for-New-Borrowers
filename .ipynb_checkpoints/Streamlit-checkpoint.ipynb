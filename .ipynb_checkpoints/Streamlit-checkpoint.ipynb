{
 "cells": [
  {
   "cell_type": "code",
   "execution_count": 40,
   "id": "097df160",
   "metadata": {},
   "outputs": [
    {
     "name": "stdout",
     "output_type": "stream",
     "text": [
      "Overwriting app.py\n"
     ]
    }
   ],
   "source": [
    "%%writefile app.py\n",
    "import streamlit as st\n",
    "import pandas as pd\n",
    "import matplotlib.pyplot as plt\n",
    "from PIL import Imag\n",
    "import requests\n",
    "import streamlit.components.v1 as components\n",
    "import altair as alt\n",
    "import shap\n",
    "import names"
   ]
  },
  {
   "cell_type": "code",
   "execution_count": 26,
   "id": "9aa91057",
   "metadata": {},
   "outputs": [
    {
     "name": "stdout",
     "output_type": "stream",
     "text": [
      "Appending to app.py\n"
     ]
    }
   ],
   "source": [
    "%%writefile -a app.py\n",
    "API_URL = \"http://127.0.0.1:8000/\"\n",
    "TIMEOUT = (5, 30)\n",
    "CLASSES_NAMES = ['REPAY SUCCESS', 'REPAY FAILURE']\n",
    "CLASSES_COLORS = ['green', 'red']"
   ]
  },
  {
   "cell_type": "code",
   "execution_count": 27,
   "id": "edeb6a93",
   "metadata": {},
   "outputs": [
    {
     "name": "stdout",
     "output_type": "stream",
     "text": [
      "Appending to app.py\n"
     ]
    }
   ],
   "source": [
    "%%writefile -a app.py\n",
    "\n",
    "\"\"\" Get customer data by SK_ID_CURR \"\"\"\n",
    "@st.cache\n",
    "def get_customer_data_by_SK_ID_CURR(SK_ID_CURR):\n",
    "    \"\"\" Get customer data by SK_ID_CURR \"\"\"\n",
    "    response = requests.get(API_URL + \"data/SK_ID_CURR=\" + str(SK_ID_CURR), timeout=TIMEOUT)\n",
    "    content = json.loads(json.loads(response.content))\n",
    "    return pd.Series(content)\n",
    "\n",
    "\"\"\" Get prediction for a customer using SK_ID_CURR \"\"\"\n",
    "@st.cache\n",
    "def get_predictions_by_SK_ID_CURR(SK_ID_CURR):\n",
    "    response = requests.get(API_URL + \"predict/SK_ID_CURR=\" + str(SK_ID_CURR), timeout=TIMEOUT)\n",
    "    content = json.loads(response.content)\n",
    "    return content\n",
    "\n",
    "\"\"\" Get mean values of customers \"\"\"\n",
    "@st.cache\n",
    "def get_mean_values():\n",
    "    \"\"\" Get mean values of customers \"\"\"\n",
    "    response = requests.get(API_URL + \"columns/mean\", timeout=TIMEOUT)\n",
    "    content = json.loads(json.loads(response.content))\n",
    "    return pd.Series(content)\n",
    "\n",
    "def get_shap_explanation(SK_ID_CURR):\n",
    "    \"\"\" Get customer SHAP explanation \"\"\"\n",
    "    response = requests.get(API_URL + \"shap/SK_ID_CURR=\" + str(SK_ID_CURR), timeout=TIMEOUT)\n",
    "    content = json.loads(response.content)\n",
    "    explanation = shap.Explanation(np.asarray(content['values']), \n",
    "                                   content['base_values'],\n",
    "                                   feature_names=content['features'])\n",
    "    return explanation\n",
    "\n",
    "\n",
    "def main():\n",
    "    st.title('Interactive Dashboard')\n",
    "    st.header('Predict Loan Default Risk')\n",
    "    st.image(\"https://webnews.bg/uploads/images/50/1650/291650/768x432.jpg?_=1493804010\")\n",
    "    \n",
    "   \n",
    "    # Customer ID Input\n",
    "    st.markdown(\"### Enter Customer ID:\")\n",
    "    SK_ID_CURR = st.text_input(\"\")\n",
    "\n",
    "    if st.button('Predict'):\n",
    "        url = \"http://127.0.0.1:8000/model-predict\"\n",
    "        response = requests.post(url, data={\"SK_ID_CURR\": SK_ID_CURR})\n",
    "        st.write(f'Customer with ID {SK_ID_CURR} has a default risk probability of {response.json()[\"prediction\"]}')\n",
    "      \n",
    "        if st.button('Details'):\n",
    "            customer_data = get_customer_data_by_SK_ID_CURR(SK_ID_CURR)\n",
    "            st.subheader(f\"Data for Customer {SK_ID_CURR}\")\n",
    "            st.write(customer_data)\n",
    "\n",
    "        if st.button('Compare'):\n",
    "            comparison_class = st.selectbox(\"Choose a category for comparison:\", CLASSES_NAMES)\n",
    "            # Use the selected comparison_class to fetch respective customer data\n",
    "            # Implement logic for comparison here and then display the comparison\n",
    "            \n",
    "            mean_data = get_mean_values()\n",
    "            st.subheader(\"Average Data for Comparison\")\n",
    "            st.write(mean_data)\n",
    "    \n",
    "    st.header('Prêt à Spend')\n",
    "\n",
    "if __name__ == \"__main__\":\n",
    "    main()\n"
   ]
  },
  {
   "cell_type": "markdown",
   "id": "7d25f5da",
   "metadata": {},
   "source": [
    "%%writefile -a app.py\n",
    "sample_ids = application_train['SK_ID_CURR'].sample(10).tolist()\n",
    "selected_customer_data = application_train[application_train['SK_ID_CURR'] == selected_id]\n"
   ]
  },
  {
   "cell_type": "code",
   "execution_count": null,
   "id": "f2876fab",
   "metadata": {},
   "outputs": [
    {
     "name": "stdout",
     "output_type": "stream",
     "text": [
      "\u001b[0m\n",
      "\u001b[34m\u001b[1m  You can now view your Streamlit app in your browser.\u001b[0m\n",
      "\u001b[0m\n",
      "\u001b[34m  Local URL: \u001b[0m\u001b[1mhttp://localhost:8502\u001b[0m\n",
      "\u001b[34m  Network URL: \u001b[0m\u001b[1mhttp://172.20.10.2:8502\u001b[0m\n",
      "\u001b[0m\n",
      "2023-10-25 16:54:23.632 Uncaught app exception\n",
      "Traceback (most recent call last):\n",
      "  File \"/Users/innakonar/opt/anaconda3/lib/python3.9/site-packages/streamlit/runtime/scriptrunner/script_runner.py\", line 541, in _run_script\n",
      "    exec(code, module.__dict__)\n",
      "  File \"/Users/innakonar/Desktop/Project_7/app.py\", line 4, in <module>\n",
      "    from PIL import Imag\n",
      "ImportError: cannot import name 'Imag' from 'PIL' (/Users/innakonar/opt/anaconda3/lib/python3.9/site-packages/PIL/__init__.py)\n"
     ]
    }
   ],
   "source": [
    "!streamlit run app.py"
   ]
  },
  {
   "cell_type": "code",
   "execution_count": null,
   "id": "6df4f48c",
   "metadata": {},
   "outputs": [],
   "source": []
  }
 ],
 "metadata": {
  "kernelspec": {
   "display_name": "Python 3 (ipykernel)",
   "language": "python",
   "name": "python3"
  },
  "language_info": {
   "codemirror_mode": {
    "name": "ipython",
    "version": 3
   },
   "file_extension": ".py",
   "mimetype": "text/x-python",
   "name": "python",
   "nbconvert_exporter": "python",
   "pygments_lexer": "ipython3",
   "version": "3.9.13"
  }
 },
 "nbformat": 4,
 "nbformat_minor": 5
}
